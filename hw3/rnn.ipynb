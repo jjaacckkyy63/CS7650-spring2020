{
 "cells": [
  {
   "cell_type": "markdown",
   "metadata": {},
   "source": [
    "\n",
    "\n",
    "# Generating Shakespeare with a Character-Level RNN\n"
   ]
  },
  {
   "cell_type": "markdown",
   "metadata": {},
   "source": [
    "In this part, we'll turn from traditional n-gram based language models to a more advanced form of language modeling using a Recurrent Neural Network. Specifically, we'll be setting up a character-level recurrent neural network (char-rnn) for short.\n",
    "\n",
    "Andrej Karpathy, a researcher at OpenAI, has written an excellent blog post about using RNNs for language models, which you should read before beginning this assignment.  The title of his blog post is [The Unreasonable Effectiveness of Recurrent Neural Networks](http://karpathy.github.io/2015/05/21/rnn-effectiveness/).\n",
    "\n",
    "Karpathy shows how char-rnns can be used to generate texts for several fun domains:\n",
    "* Shakespeare plays\n",
    "* Essays about economics\n",
    "* LaTeX documents\n",
    "* Linux source code\n",
    "* Baby names\n",
    "\n",
    "<div class=\"alert alert-info\" markdown=\"1\">\n",
    "Here are the materials that you should download for this assignment:\n",
    "\n",
    "* [training data and devlopment data for generation](https://www.cc.gatech.edu/classes/AY2020/cs7650_spring/hw3/lm/data.zip).\n",
    "</div>\n",
    "\n",
    "# Recommended Reading\n",
    "\n",
    "You should install PyTorch, know Python, and understand Tensors:\n",
    "\n",
    "* http://pytorch.org/ For installation instructions\n",
    "* [Deep Learning with PyTorch: A 60-minute Blitz](https://github.com/pytorch/tutorials/blob/master/Deep%20Learning%20with%20PyTorch.ipynb) to get started with PyTorch in general\n",
    "* [jcjohnson's PyTorch examples](https://github.com/jcjohnson/pytorch-examples) for an in depth overview\n",
    "* [Introduction to PyTorch for former Torchies](https://github.com/pytorch/tutorials/blob/master/Introduction%20to%20PyTorch%20for%20former%20Torchies.ipynb) if you are former Lua Torch user\n",
    "\n",
    "It would also be useful to know about RNNs and how they work:\n",
    "\n",
    "* [The Unreasonable Effectiveness of Recurrent Neural Networks](http://karpathy.github.io/2015/05/21/rnn-effectiveness/) shows a bunch of real life examples\n",
    "* [Understanding LSTM Networks](http://colah.github.io/posts/2015-08-Understanding-LSTMs/) is about LSTMs specifically but also informative about RNNs in general\n",
    "\n",
    "Also see these related tutorials from the series:\n",
    "\n",
    "* [Classifying Names with a Character-Level RNN](https://github.com/spro/practical-pytorch/blob/master/char-rnn-classification/char-rnn-classification.ipynb) uses an RNN for classification\n",
    "* [Generating Names with a Conditional Character-Level RNN](https://github.com/spro/practical-pytorch/blob/master/conditional-char-rnn/conditional-char-rnn.ipynb) builds on this model to add a category as input\n",
    "\n",
    "## You can also set up Pytorch in Google Colab\n",
    "\n",
    "Pytorch is one of the most popular deep learning frameworks in both industry and academia, and learning its use will be invaluable should you choose a career in deep learning. \n",
    "\n",
    "### Setup\n",
    "#### Using Google Colab (recommended)\n",
    "1. Upload this notebook on [Colab](https://colab.research.google.com/notebooks/welcome.ipynb).\n",
    "2. Set hardware accelerator to ```GPU``` under ```notebook settings``` in the ```Edit``` menu.\n",
    "3. Run the first cell to  set up  the environment.\n",
    "\n",
    "### Note\n",
    "Please look at the FAQ section before you start working.\n"
   ]
  },
  {
   "cell_type": "markdown",
   "metadata": {},
   "source": [
    "# Prepare data\n",
    "\n",
    "The file we are using is a plain text file. We turn any potential unicode characters into plain ASCII by using the `unidecode` package (which you can install via `pip` or `conda`)."
   ]
  },
  {
   "cell_type": "code",
   "execution_count": 1,
   "metadata": {},
   "outputs": [
    {
     "name": "stdout",
     "output_type": "stream",
     "text": [
      "Requirement already satisfied: unidecode in /home/yhsieh/anaconda3/envs/sign/lib/python3.6/site-packages (1.1.1)\n",
      "file_len = 9405\n"
     ]
    }
   ],
   "source": [
    "!pip install unidecode\n",
    "import unidecode\n",
    "import string\n",
    "import random\n",
    "import re\n",
    "\n",
    "all_characters = string.printable\n",
    "n_characters = len(all_characters)\n",
    "\n",
    "file = unidecode.unidecode(open('data/shakespeare_sonnets.txt').read())\n",
    "file_len = len(file)\n",
    "print('file_len =', file_len)"
   ]
  },
  {
   "cell_type": "markdown",
   "metadata": {},
   "source": [
    "To make inputs out of this big string of data, we will be splitting it into chunks."
   ]
  },
  {
   "cell_type": "code",
   "execution_count": 2,
   "metadata": {},
   "outputs": [
    {
     "name": "stdout",
     "output_type": "stream",
     "text": [
      "t made for store,\n",
      "Harsh, featureless, and rude, barrenly perish:\n",
      "Look, whom she best endow'd, she gave thee more;\n",
      "Which bounteous gift thou shouldst in bounty cherish:\n",
      "  She carv'd thee for her seal, a\n"
     ]
    }
   ],
   "source": [
    "chunk_len = 200\n",
    "\n",
    "def random_chunk():\n",
    "    start_index = random.randint(0, file_len - chunk_len)\n",
    "    end_index = start_index + chunk_len + 1\n",
    "    return file[start_index:end_index]\n",
    "\n",
    "print(random_chunk())"
   ]
  },
  {
   "cell_type": "markdown",
   "metadata": {},
   "source": [
    "# Build the Model\n",
    "\n",
    "This model will take as input the character for step $t_{-1}$ and is expected to output the next character $t$. There are three layers - one linear layer that encodes the input character into an internal state, one GRU layer (which may itself have multiple layers) that operates on that internal state and a hidden state, and a decoder layer that outputs the probability distribution. You need to finish the forward method. (Refer to [Pytorch GRU Documentation](https://pytorch.org/docs/stable/nn.html#gru))"
   ]
  },
  {
   "cell_type": "code",
   "execution_count": 3,
   "metadata": {},
   "outputs": [],
   "source": [
    "import torch\n",
    "import torch.nn as nn\n",
    "\n",
    "device = torch.device(\"cuda\" if torch.cuda.is_available() else \"cpu\")\n",
    "\n",
    "class RNN(nn.Module):\n",
    "    def __init__(self, input_size, hidden_size, output_size, n_layers=1):\n",
    "        super(RNN, self).__init__()\n",
    "        self.input_size = input_size\n",
    "        self.hidden_size = hidden_size\n",
    "        self.output_size = output_size\n",
    "        self.n_layers = n_layers\n",
    "        \n",
    "        self.encoder = nn.Embedding(input_size, hidden_size)\n",
    "        self.gru = nn.GRU(hidden_size, hidden_size, n_layers)\n",
    "        self.decoder = nn.Linear(hidden_size, output_size)\n",
    "    \n",
    "    def forward(self, input, hidden):\n",
    "        #Input input: torch Tensor of shape (1,)\n",
    "        #hidden: torch Tensor of shape (self.n_layers, 1, self.hidden_size)\n",
    "        #Return output: torch Tensor of shape (1, self.output_size) \n",
    "        #and hidden: torch Tensor of shape (self.n_layers, 1, self.hidden_size)\n",
    "        \n",
    "        out = self.encoder(input).view(self.n_layers, 1, -1)\n",
    "        out, hidden = self.gru(out, hidden)\n",
    "        out = self.decoder(out)\n",
    "        out = out.view(1, -1)\n",
    "        return out, hidden\n",
    "\n",
    "    def init_hidden(self):\n",
    "        return torch.zeros(self.n_layers, 1, self.hidden_size).to(device)"
   ]
  },
  {
   "cell_type": "markdown",
   "metadata": {},
   "source": [
    "# Inputs and Targets"
   ]
  },
  {
   "cell_type": "markdown",
   "metadata": {},
   "source": [
    "Each chunk will be turned into a tensor, specifically a `LongTensor` (used for integer values), by looping through the characters of the string and looking up the index of each character in `all_characters`."
   ]
  },
  {
   "cell_type": "code",
   "execution_count": 4,
   "metadata": {},
   "outputs": [
    {
     "name": "stdout",
     "output_type": "stream",
     "text": [
      "tensor([10, 11, 12, 39, 40, 41])\n"
     ]
    }
   ],
   "source": [
    "# Turn string into list of longs\n",
    "def char_tensor(string):\n",
    "    tensor = torch.zeros(len(string)).long().to(device)\n",
    "    for c in range(len(string)):\n",
    "        tensor[c] = all_characters.index(string[c])\n",
    "    return tensor\n",
    "\n",
    "print(char_tensor('abcDEF'))"
   ]
  },
  {
   "cell_type": "markdown",
   "metadata": {},
   "source": [
    "Finally we can assemble a pair of input and target tensors for training, from a random chunk. The input will be all characters *up to the last*, and the target will be all characters *from the first*. So if our chunk is \"abc\" the input will correspond to \"ab\" while the target is \"bc\"."
   ]
  },
  {
   "cell_type": "code",
   "execution_count": 5,
   "metadata": {},
   "outputs": [],
   "source": [
    "def random_training_set():    \n",
    "    chunk = random_chunk()\n",
    "    inp = char_tensor(chunk[:-1])\n",
    "    target = char_tensor(chunk[1:])\n",
    "    return inp, target"
   ]
  },
  {
   "cell_type": "markdown",
   "metadata": {},
   "source": [
    "# Evaluating\n",
    "\n",
    "To evaluate the network we will feed one character at a time, use the outputs of the network as a probability distribution for the next character, and repeat. To start generation we pass a priming string to start building up the hidden state, from which we then generate one character at a time."
   ]
  },
  {
   "cell_type": "code",
   "execution_count": 6,
   "metadata": {},
   "outputs": [],
   "source": [
    "def evaluate(prime_str='A', predict_len=100, temperature=0.8):\n",
    "    hidden = decoder.init_hidden()\n",
    "    prime_input = char_tensor(prime_str)\n",
    "    predicted = prime_str\n",
    "\n",
    "    # Use priming string to \"build up\" hidden state\n",
    "    for p in range(len(prime_str) - 1):\n",
    "        _, hidden = decoder(prime_input[p], hidden)\n",
    "    inp = prime_input[-1]\n",
    "    \n",
    "    for p in range(predict_len):\n",
    "        output, hidden = decoder(inp, hidden)\n",
    "        \n",
    "        # Sample from the network as a multinomial distribution\n",
    "        output_dist = output.data.view(-1).div(temperature).exp()\n",
    "        top_i = torch.multinomial(output_dist, 1)[0]\n",
    "        \n",
    "        # Add predicted character to string and use as next input\n",
    "        predicted_char = all_characters[top_i]\n",
    "        predicted += predicted_char\n",
    "        inp = char_tensor(predicted_char)\n",
    "\n",
    "    return predicted"
   ]
  },
  {
   "cell_type": "markdown",
   "metadata": {},
   "source": [
    "# Training"
   ]
  },
  {
   "cell_type": "markdown",
   "metadata": {},
   "source": [
    "A helper to print the amount of time passed:"
   ]
  },
  {
   "cell_type": "code",
   "execution_count": 7,
   "metadata": {},
   "outputs": [],
   "source": [
    "import time, math\n",
    "\n",
    "def time_since(since):\n",
    "    s = time.time() - since\n",
    "    m = math.floor(s / 60)\n",
    "    s -= m * 60\n",
    "    return '%dm %ds' % (m, s)"
   ]
  },
  {
   "cell_type": "markdown",
   "metadata": {},
   "source": [
    "The main training function"
   ]
  },
  {
   "cell_type": "code",
   "execution_count": 14,
   "metadata": {},
   "outputs": [],
   "source": [
    "def train(inp, target):\n",
    "    hidden = decoder.init_hidden()\n",
    "    decoder.zero_grad()\n",
    "    loss = 0    \n",
    "    for c in range(chunk_len):\n",
    "        output, hidden = decoder(inp[c], hidden)\n",
    "        loss += criterion(output, target.unsqueeze(1)[c])\n",
    "\n",
    "    loss.backward()\n",
    "    decoder_optimizer.step()\n",
    "\n",
    "    return loss.item() / chunk_len"
   ]
  },
  {
   "cell_type": "markdown",
   "metadata": {},
   "source": [
    "Then we define the training parameters, instantiate the model, and start training:"
   ]
  },
  {
   "cell_type": "code",
   "execution_count": 15,
   "metadata": {
    "scrolled": false
   },
   "outputs": [
    {
     "name": "stdout",
     "output_type": "stream",
     "text": [
      "[0m 9s (100 5%) 2.0964]\n",
      "Whesse tho frat be und, uelin morf thend thaye?\n",
      "Lond lore bep, fouty? and doth tout thany the.\n",
      " sou su \n",
      "\n",
      "[0m 19s (200 10%) 1.9044]\n",
      "When thmoold kildour shreean the with tell thee t ar with and to the thel,\n",
      "Will,\n",
      "When that deseim with \n",
      "\n",
      "[0m 29s (300 15%) 1.4077]\n",
      "When thou the lire that provat.\n",
      "When hen sap the love,\n",
      "And the thou reet that ungould liver to leet ev \n",
      "\n",
      "[0m 39s (400 20%) 1.7316]\n",
      "Whate and that by leave beauty in antereld with doth excance, in bus shall with in then thou led ade:\n",
      " \n",
      "\n",
      "[0m 49s (500 25%) 1.7827]\n",
      "Wherise warty do thou denter,\n",
      "Ifale to ton that, an the wary did to the ben in thine were, or notele f \n",
      "\n",
      "[0m 59s (600 30%) 1.2916]\n",
      "Whine, as thou do breed ore\n",
      "Thy beauty thy behty the with glasp heart thou at to were the world, and n \n",
      "\n",
      "[1m 9s (700 35%) 1.0321]\n",
      "When I beauty some will beauty's is prinal, and by thee:\n",
      "Thy self-sap, a unter day dearths dual,\n",
      "And o \n",
      "\n",
      "[1m 19s (800 40%) 1.2919]\n",
      "Whine, and beauty live:\n",
      "Then thrick thy else use,\n",
      "  That were why loster's grainst not thy else anourt \n",
      "\n",
      "[1m 29s (900 45%) 1.2349]\n",
      "Which beauty's eaties she senceed thee,\n",
      "Thou her thee that the this forst can should beauty's eye\n",
      "Whic \n",
      "\n",
      "[1m 39s (1000 50%) 1.1867]\n",
      "Whis thou beare youth increase\n",
      "Find noth spend'sting thou tome the to thee all self you here deathat a \n",
      "\n",
      "[1m 48s (1100 55%) 1.1348]\n",
      "Whan the to to confount,\n",
      "  Thame of my kind-heeard,\n",
      "Where ustere that receeck;\n",
      "Shalien lives prick had \n",
      "\n",
      "[1m 58s (1200 60%) 0.9496]\n",
      "Where and beauty still love,\n",
      "The world world die sight,\n",
      "Death worm like as make\n",
      "Yourself hate of thee  \n",
      "\n",
      "[2m 8s (1300 65%) 1.2171]\n",
      "Whis lov'st not sweets lend,\n",
      "Ath in conmy death read, and deceith not winter's given that thy goodough \n",
      "\n",
      "[2m 18s (1400 70%) 0.8957]\n",
      "Where:\n",
      "Then thy self age asked, where alt thy self in his be thou recay\n",
      "To his unceing, and chaving th \n",
      "\n",
      "[2m 28s (1500 75%) 0.6554]\n",
      "Which and decay, growar where and distill'd.\n",
      "That frame were and still make when heaving the gladly?\n",
      "O \n",
      "\n",
      "[2m 38s (1600 80%) 0.5768]\n",
      "Wheriving winter when incher,\n",
      "Deaves progd ont being sweets and beauty's doou gaze were heaving in pla \n",
      "\n",
      "[2m 48s (1700 85%) 0.5290]\n",
      "Whis in thou sweet his barder thou lives thine old,\n",
      "And say, age ore to be were eyes, rand still'\n",
      "In o \n",
      "\n",
      "[2m 58s (1800 90%) 0.5593]\n",
      "Whoss in that thee henhost thou the were waste held: joy mind:\n",
      "Shall hath how thy self thou thriftless \n",
      "\n",
      "[3m 8s (1900 95%) 0.9413]\n",
      "Whid of may,\n",
      "Will be the another guth that be thy self thou no depy thine owled and have,\n",
      "And own so f \n",
      "\n",
      "[3m 18s (2000 100%) 0.8256]\n",
      "Whose speetsong thee lives with prove, you art and, and cheving tonge the to his mirdered of prime,\n",
      "An \n",
      "\n"
     ]
    }
   ],
   "source": [
    "n_epochs = 2000\n",
    "print_every = 100\n",
    "plot_every = 10\n",
    "hidden_size = 100\n",
    "n_layers = 1\n",
    "lr = 0.005\n",
    "\n",
    "decoder = RNN(n_characters, hidden_size, n_characters, n_layers).to(device)\n",
    "decoder_optimizer = torch.optim.Adam(decoder.parameters(), lr=lr)\n",
    "criterion = nn.CrossEntropyLoss()\n",
    "\n",
    "start = time.time()\n",
    "all_losses = []\n",
    "loss_avg = 0\n",
    "\n",
    "for epoch in range(1, n_epochs + 1):\n",
    "    loss = train(*random_training_set())       \n",
    "    loss_avg += loss\n",
    "\n",
    "    if epoch % print_every == 0:\n",
    "        print('[%s (%d %d%%) %.4f]' % (time_since(start), epoch, epoch / n_epochs * 100, loss))\n",
    "        print(evaluate('Wh', 100), '\\n')\n",
    "\n",
    "    if epoch % plot_every == 0:\n",
    "        all_losses.append(loss_avg / plot_every)\n",
    "        loss_avg = 0"
   ]
  },
  {
   "cell_type": "markdown",
   "metadata": {},
   "source": [
    "# Plotting the Training Losses\n",
    "\n",
    "Plotting the historical loss from all_losses shows the network learning:"
   ]
  },
  {
   "cell_type": "code",
   "execution_count": 16,
   "metadata": {},
   "outputs": [
    {
     "data": {
      "text/plain": [
       "[<matplotlib.lines.Line2D at 0x7fb1fcc5ac50>]"
      ]
     },
     "execution_count": 16,
     "metadata": {},
     "output_type": "execute_result"
    },
    {
     "data": {
      "image/png": "[encoded data removed]",
      "text/plain": [
       "<Figure size 432x288 with 1 Axes>"
      ]
     },
     "metadata": {
      "needs_background": "light"
     },
     "output_type": "display_data"
    }
   ],
   "source": [
    "import matplotlib.pyplot as plt\n",
    "import matplotlib.ticker as ticker\n",
    "%matplotlib inline\n",
    "\n",
    "plt.figure()\n",
    "plt.plot(all_losses)"
   ]
  },
  {
   "cell_type": "markdown",
   "metadata": {},
   "source": [
    "# Evaluating at different \"temperatures\"\n",
    "\n",
    "In the `evaluate` function above, every time a prediction is made the outputs are divided by the \"temperature\" argument passed. Using a higher number makes all actions more equally likely, and thus gives us \"more random\" outputs. Using a lower value (less than 1) makes high probabilities contribute more. As we turn the temperature towards zero we are choosing only the most likely outputs.\n",
    "\n",
    "We can see the effects of this by adjusting the `temperature` argument."
   ]
  },
  {
   "cell_type": "code",
   "execution_count": 17,
   "metadata": {},
   "outputs": [
    {
     "name": "stdout",
     "output_type": "stream",
     "text": [
      "Thee the deceif in then world's fap, and con may:\n",
      "Sees thou shouldst in one, and where all the marr wind,\n",
      "Or else thou and the self elsier with pleasing time love?\n",
      "Be, age, and old ere to be the comment\n"
     ]
    }
   ],
   "source": [
    "print(evaluate('Th', 200, temperature=0.8))"
   ]
  },
  {
   "cell_type": "markdown",
   "metadata": {},
   "source": [
    "Lower temperatures are less varied, choosing only the more probable outputs:"
   ]
  },
  {
   "cell_type": "code",
   "execution_count": 21,
   "metadata": {},
   "outputs": [
    {
     "name": "stdout",
     "output_type": "stream",
     "text": [
      "Then thou the world, or else the world,\n",
      "Or bay meth thou the gold,\n",
      "Against the stormy but use,\n",
      "If thou be user ow;\n",
      "But for thou be use, of death's every cherish:\n",
      "  Pity the world, or else thou be thou a\n"
     ]
    }
   ],
   "source": [
    "print(evaluate('Th', 200, temperature=0.2))"
   ]
  },
  {
   "cell_type": "markdown",
   "metadata": {},
   "source": [
    "Higher temperatures more varied, choosing less probable outputs:"
   ]
  },
  {
   "cell_type": "code",
   "execution_count": 22,
   "metadata": {},
   "outputs": [
    {
     "name": "stdout",
     "output_type": "stream",
     "text": [
      "Thered, tren for dey the glaiss deceivant breself-eir.\n",
      "Hkeesterb Leasbament in threecked's day:\n",
      "A love in ptend:\n",
      "  nlet effoust thou stindwenl may jMakes if lies worm which those skeent n\n",
      "  now thosur c\n"
     ]
    }
   ],
   "source": [
    "print(evaluate('Th', 200, temperature=1.4))"
   ]
  },
  {
   "cell_type": "code",
   "execution_count": 23,
   "metadata": {},
   "outputs": [
    {
     "name": "stdout",
     "output_type": "stream",
     "text": [
      "Perplexity: 2.0491368770599365\n"
     ]
    }
   ],
   "source": [
    "import torch.nn.functional as F\n",
    "def perp(testfile):\n",
    "    inp = char_tensor(testfile[:-1])\n",
    "    target = char_tensor(testfile[1:])\n",
    "    test_len=len(testfile)\n",
    "    hidden = decoder.init_hidden()\n",
    "    decoder.zero_grad()\n",
    "    perplexity=torch.tensor(0.0)\n",
    "\n",
    "    for c in range(test_len-1):\n",
    "        output, hidden = decoder(inp[c], hidden)\n",
    "        perplexity -=F.log_softmax(output,dim=1)[0][target[c]]\n",
    "\n",
    "    return (perplexity/test_len).exp().item()\n",
    "\n",
    "testfile = unidecode.unidecode(open('data/shakespeare_sonnets.txt').read())\n",
    "print('Perplexity:',perp(testfile))"
   ]
  },
  {
   "cell_type": "markdown",
   "metadata": {
    "collapsed": true
   },
   "source": [
    "## FAQs\n",
    "\n",
    "#### I'm unfamiliar with PyTorch. How do I get started?\n",
    "If you are new to the paradigm of computational graphs and functional programming, please have a look at this [tutorial](https://hackernoon.com/linear-regression-in-x-minutes-using-pytorch-8eec49f6a0e2) before getting started.\n",
    "\n",
    "#### How do I speed up training?\n",
    "Send the model and the input, output tensors to the GPU using ```.to(device)```. Refer the [PyTorch docs](https://pytorch.org/docs/stable/notes/cuda.html) for further information.\n"
   ]
  },
  {
   "cell_type": "code",
   "execution_count": null,
   "metadata": {},
   "outputs": [],
   "source": []
  },
  {
   "cell_type": "code",
   "execution_count": null,
   "metadata": {},
   "outputs": [],
   "source": []
  },
  {
   "cell_type": "code",
   "execution_count": null,
   "metadata": {},
   "outputs": [],
   "source": []
  },
  {
   "cell_type": "code",
   "execution_count": null,
   "metadata": {},
   "outputs": [],
   "source": []
  }
 ],
 "metadata": {
  "anaconda-cloud": {},
  "kernelspec": {
   "display_name": "Python 3",
   "language": "python",
   "name": "python3"
  },
  "language_info": {
   "codemirror_mode": {
    "name": "ipython",
    "version": 3
   },
   "file_extension": ".py",
   "mimetype": "text/x-python",
   "name": "python",
   "nbconvert_exporter": "python",
   "pygments_lexer": "ipython3",
   "version": "3.6.9"
  }
 },
 "nbformat": 4,
 "nbformat_minor": 1
}
